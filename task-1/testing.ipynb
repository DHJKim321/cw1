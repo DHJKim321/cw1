{
 "cells": [
  {
   "cell_type": "code",
   "execution_count": 1,
   "metadata": {},
   "outputs": [],
   "source": [
    "import cupy as cp"
   ]
  },
  {
   "cell_type": "code",
   "execution_count": 6,
   "metadata": {},
   "outputs": [],
   "source": [
    "def distance_dot(X, Y):\n",
    "    X = cp.array(X)\n",
    "    Y = cp.array(Y)\n",
    "    Z = cp.zeros_like(X)\n",
    "    for i in range(len(X)):\n",
    "        Z[i] = X[i] * Y[i]\n",
    "    cp.cuda.Stream.null.synchronize()\n",
    "    return cp.sum(Z)\n",
    "\n",
    "def distance_cosine(X, Y):\n",
    "    dot = distance_dot(X, Y)\n",
    "    X_len = len(X)\n",
    "    Y_len = len(Y)\n",
    "    cp.cuda.Stream.null.synchronize()\n",
    "    return 1 - (dot / (X_len * Y_len))"
   ]
  },
  {
   "cell_type": "code",
   "execution_count": 10,
   "metadata": {},
   "outputs": [
    {
     "data": {
      "text/plain": [
       "array([1, 4, 9])"
      ]
     },
     "execution_count": 10,
     "metadata": {},
     "output_type": "execute_result"
    }
   ],
   "source": [
    "X = cp.array([1, 2, 3])\n",
    "cp.square(X)"
   ]
  }
 ],
 "metadata": {
  "kernelspec": {
   "display_name": "Python 3",
   "language": "python",
   "name": "python3"
  },
  "language_info": {
   "codemirror_mode": {
    "name": "ipython",
    "version": 3
   },
   "file_extension": ".py",
   "mimetype": "text/x-python",
   "name": "python",
   "nbconvert_exporter": "python",
   "pygments_lexer": "ipython3",
   "version": "3.10.16"
  }
 },
 "nbformat": 4,
 "nbformat_minor": 2
}
